{
 "cells": [
  {
   "cell_type": "markdown",
   "id": "confused-advice",
   "metadata": {},
   "source": [
    "# School Score Web Scraping"
   ]
  },
  {
   "cell_type": "code",
   "execution_count": 2,
   "id": "modular-breed",
   "metadata": {},
   "outputs": [],
   "source": [
    "import requests\n",
    "from bs4 import BeautifulSoup\n",
    "from selenium import webdriver\n",
    "from selenium.webdriver.common.keys import Keys\n",
    "import time, os\n",
    "import numpy as np\n",
    "import pandas as pd\n",
    "import random\n",
    "import re\n",
    "import pickle\n",
    "import urllib.request, urllib.error, urllib.parse\n",
    "from fake_useragent import UserAgent\n",
    "from selenium.webdriver.common.by import By\n",
    "from selenium.webdriver.support.ui import WebDriverWait\n",
    "from selenium.webdriver.support import expected_conditions as EC"
   ]
  },
  {
   "cell_type": "code",
   "execution_count": 57,
   "id": "lucky-restriction",
   "metadata": {},
   "outputs": [],
   "source": [
    "#Walkscore link\n",
    "\n",
    "school_score_link = 'https://www.ziprealty.com/schools/Pennsylvania/'"
   ]
  },
  {
   "cell_type": "code",
   "execution_count": 4,
   "id": "sealed-handbook",
   "metadata": {},
   "outputs": [],
   "source": [
    "#Bring in pickled Philly zipcodes list\n",
    "\n",
    "with open('philly_zipcodes','rb') as read_file:\n",
    "    philly_zipcodes = pickle.load(read_file)"
   ]
  },
  {
   "cell_type": "code",
   "execution_count": 60,
   "id": "static-outreach",
   "metadata": {},
   "outputs": [],
   "source": [
    "#Pull all school scores\n",
    "\n",
    "best_grade_school_score_dict = {}\n",
    "\n",
    "def get_all_school_scores(link,zipcode_list):\n",
    "   \n",
    "    #Pull Average School Score\n",
    "    def get_school_score(school_score_soup):\n",
    "        try:\n",
    "            text = school_score_soup.find('table', attrs={'id' : 'best-elem-school-top'}).text\n",
    "            text = re.sub(r'[A-Za-z\\s,]','',text)\n",
    "            if int(text[:1]) == 1:\n",
    "                score = int(text[:2])\n",
    "            else:\n",
    "                score = int(text[:1])\n",
    "        except:\n",
    "            score = 'No Schools'\n",
    "        return score\n",
    "\n",
    "    for zipcode in zipcode_list:\n",
    "        iterable_link = link + '{zc}'.format(zc=zipcode)\n",
    "        school_score_html = requests.get(iterable_link).text\n",
    "        school_score_soup = BeautifulSoup(school_score_html, \"lxml\")\n",
    "        best_grade_school_score_dict[zipcode] = get_school_score(school_score_soup)\n",
    "        time.sleep(random.uniform(5.25,7.75))\n",
    "    \n",
    "    return best_grade_school_score_dict"
   ]
  },
  {
   "cell_type": "code",
   "execution_count": 61,
   "id": "lesbian-costs",
   "metadata": {},
   "outputs": [
    {
     "data": {
      "text/plain": [
       "{'19102': 'No Schools',\n",
       " '19103': 6,\n",
       " '19104': 9,\n",
       " '19106': 7,\n",
       " '19107': 2,\n",
       " '19111': 4,\n",
       " '19114': 5,\n",
       " '19115': 7,\n",
       " '19116': 6,\n",
       " '19118': 3,\n",
       " '19119': 3,\n",
       " '19120': 3,\n",
       " '19121': 3,\n",
       " '19122': 3,\n",
       " '19123': 3,\n",
       " '19124': 'No Schools',\n",
       " '19125': 4,\n",
       " '19126': 3,\n",
       " '19127': 4,\n",
       " '19128': 'No Schools',\n",
       " '19129': 3,\n",
       " '19130': 'No Schools',\n",
       " '19131': 2,\n",
       " '19132': 2,\n",
       " '19133': 3,\n",
       " '19134': 3,\n",
       " '19135': 3,\n",
       " '19136': 3,\n",
       " '19137': 3,\n",
       " '19138': 2,\n",
       " '19139': 2,\n",
       " '19140': 2,\n",
       " '19141': 2,\n",
       " '19142': 2,\n",
       " '19143': 3,\n",
       " '19144': 'No Schools',\n",
       " '19145': 2,\n",
       " '19146': 3,\n",
       " '19147': 7,\n",
       " '19148': 5,\n",
       " '19149': 4,\n",
       " '19150': 3,\n",
       " '19151': 4,\n",
       " '19152': 4,\n",
       " '19153': 10,\n",
       " '19154': 5}"
      ]
     },
     "execution_count": 61,
     "metadata": {},
     "output_type": "execute_result"
    }
   ],
   "source": [
    "#Run function to pull information\n",
    "get_all_school_scores(school_score_link,philly_zipcodes)"
   ]
  },
  {
   "cell_type": "code",
   "execution_count": 64,
   "id": "terminal-personality",
   "metadata": {},
   "outputs": [],
   "source": [
    "best_grade_school_score_df = pd.DataFrame(list(best_grade_school_score_dict.items()),columns = ['zipcode','ave_school_score']) "
   ]
  },
  {
   "cell_type": "code",
   "execution_count": 65,
   "id": "twelve-harris",
   "metadata": {},
   "outputs": [],
   "source": [
    "#Pickle walkscore dataframe\n",
    "\n",
    "with open('best_grade_school_score_df', 'wb') as write_object:\n",
    "    pickle.dump(best_grade_school_score_df, write_object)"
   ]
  }
 ],
 "metadata": {
  "kernelspec": {
   "display_name": "Python [conda env:Metis] *",
   "language": "python",
   "name": "conda-env-Metis-py"
  },
  "language_info": {
   "codemirror_mode": {
    "name": "ipython",
    "version": 3
   },
   "file_extension": ".py",
   "mimetype": "text/x-python",
   "name": "python",
   "nbconvert_exporter": "python",
   "pygments_lexer": "ipython3",
   "version": "3.8.8"
  }
 },
 "nbformat": 4,
 "nbformat_minor": 5
}
