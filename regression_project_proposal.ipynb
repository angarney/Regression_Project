{
 "cells": [
  {
   "cell_type": "markdown",
   "id": "danish-colors",
   "metadata": {},
   "source": [
    "### MTA Project Proposal"
   ]
  },
  {
   "cell_type": "markdown",
   "id": "posted-prize",
   "metadata": {},
   "source": [
    "#### Question/Need:\n",
    "What is the framing question of your analysis, or the purpose of the model/system you plan to build?\n",
    "Who benefits from exploring this question or building this model/system?"
   ]
  },
  {
   "cell_type": "markdown",
   "id": "hidden-theorem",
   "metadata": {},
   "source": [
    "Framing Question: The MTA Fast Forward aims to make critical subway upgrades in the next 10 years to increase both effiency and capacity of subway train systems. Trains provide critical access to healthcare, grcoeries, and jobs. In the MTA Fast Forward plan a portion of train lines will be prioritized in the first 5 years and a portion of train lines will be prioritized in the next 5 years. Which train lines should be prioritized for the upgrades from both an equity and use perspective in the MTA Fast Forward plan?\n",
    "\n",
    "For the purposes of this data exploration, equity will be determined by identifying trains with consistent use both prior to and during the COVID-19 pandemic as this may point to commuters that rely on subway use. Ridership (as defined by daily entries) will be used to determine subway use. \n",
    "\n",
    "Who benefits: MTA, NYC government"
   ]
  },
  {
   "cell_type": "markdown",
   "id": "intellectual-poison",
   "metadata": {},
   "source": [
    "#### Data Description:\n",
    "What dataset(s) do you plan to use, and how will you obtain the data?\n",
    "What is an individual sample/unit of analysis in this project? What characteristics/features do you expect to work with?\n",
    "If modeling, what will you predict as your target?"
   ]
  },
  {
   "cell_type": "markdown",
   "id": "occasional-hayes",
   "metadata": {},
   "source": [
    "Data sets: [subway station location data](https://data.cityofnewyork.us/Transportation/Subway-Stations/arq3-7z49), [zipcode maps](https://data.cityofnewyork.us/Business/Zip-Code-Boundaries/i8iw-xf4u), [demographic information by zipcode](https://data.cityofnewyork.us/City-Government/Demographic-Statistics-By-Zip-Code/kku6-nxdu), MTA turnstiles data from January & February 2020 & 2021. MTA data from both pre-COVID and during-COVID will help glean information about lines that maintained high pandemic use. \n",
    "_This data will be obtained through the City of New York open access data sets. In these data sets I hope to work with station entries/exits, station zipcode location, and zipcode demographic information._\n",
    "\n",
    "Individual unit of analysis: All subway stations within a subway line\n",
    "\n",
    "Other resources: [National Equity Atlas](https://nationalequityatlas.org/), [Policy Link](https://www.policylink.org/blog/bus-rapid-transit), [OneNYC 2050 Efficient Mobility Report](https://onenyc.cityofnewyork.us/stories/efficient-mobility/), [MTA Fast Forward Plan](https://fastforward.mta.info/transform-the-subway), [Transportation Equity Atlas](https://prattcenter.net/our_work/transportation_equity_atlas)"
   ]
  },
  {
   "cell_type": "markdown",
   "id": "outdoor-employment",
   "metadata": {},
   "source": [
    "#### Tools:\n",
    "How do you intend to meet the tools requirement of the project?\n",
    "Are you planning in advance to need or use additional tools beyond those required?"
   ]
  },
  {
   "cell_type": "markdown",
   "id": "antique-blame",
   "metadata": {},
   "source": [
    "I plan to use the required skills by working with the MTA data in both SQL and python pandas and SQLAlchemy. Additionally, I will be creating visualizations with either matplotlib and seaborn. \n",
    "\n",
    "I am also hoping to use some GIS data packages within python. "
   ]
  },
  {
   "cell_type": "markdown",
   "id": "coastal-mayor",
   "metadata": {},
   "source": [
    "#### MVP Goal:\n",
    "What would a minimum viable product (MVP) look like for this project?"
   ]
  },
  {
   "cell_type": "markdown",
   "id": "innovative-soldier",
   "metadata": {},
   "source": [
    "The MVP for this project would be a pre-COVID and during-COVID ranked order of subway line daily entries."
   ]
  }
 ],
 "metadata": {
  "kernelspec": {
   "display_name": "Python [conda env:metis]",
   "language": "python",
   "name": "conda-env-metis-py"
  },
  "language_info": {
   "codemirror_mode": {
    "name": "ipython",
    "version": 3
   },
   "file_extension": ".py",
   "mimetype": "text/x-python",
   "name": "python",
   "nbconvert_exporter": "python",
   "pygments_lexer": "ipython3",
   "version": "3.8.8"
  }
 },
 "nbformat": 4,
 "nbformat_minor": 5
}
