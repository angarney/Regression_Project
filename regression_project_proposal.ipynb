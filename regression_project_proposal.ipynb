{
 "cells": [
  {
   "cell_type": "markdown",
   "id": "danish-colors",
   "metadata": {},
   "source": [
    "### Regression Project Proposal"
   ]
  },
  {
   "cell_type": "markdown",
   "id": "posted-prize",
   "metadata": {},
   "source": [
    "#### Question/Need:\n",
    "What is the framing question of your analysis, or the purpose of the model/system you plan to build?\n",
    "Who benefits from exploring this question or building this model/system?"
   ]
  },
  {
   "cell_type": "markdown",
   "id": "hidden-theorem",
   "metadata": {},
   "source": [
    "Framing Question: What are the major factors influencing the portion of taxable dollars in Philadelphia, PA properties?\n",
    "\n",
    "Audience: Philadelphia government implemented a new system, the [Actual Value Initiative](https://www.pewtrusts.org/~/media/legacy/uploadedfiles/philadelphiapropertytaxespdf.pdf), for tax assessments in 2013 and a good time look at factors influencing updated tax assessments/list price ratios. "
   ]
  },
  {
   "cell_type": "markdown",
   "id": "intellectual-poison",
   "metadata": {},
   "source": [
    "#### Data Description:\n",
    "What dataset(s) do you plan to use, and how will you obtain the data?\n",
    "What is an individual sample/unit of analysis in this project? What characteristics/features do you expect to work with?\n",
    "If modeling, what will you predict as your target?"
   ]
  },
  {
   "cell_type": "markdown",
   "id": "occasional-hayes",
   "metadata": {},
   "source": [
    "The data for this project will be obtained through webscraping. The individual unit will be one house.\n",
    "\n",
    "### Redfin.com\n",
    "**Features:** **Portion of Taxable Dollars in Property (Tax Assessed Value/List Price) - Target**, # of Bedrooms, # of Bathrooms, Zip Code, Sqft, Property Type, Year Built, Cooling Type, Parking, Lot Size, Walk Score, Transit Score\n",
    "\n",
    "[Data Link](https://www.redfin.com/city/15502/PA/Philadelphia)\n",
    "\n",
    "### City-Data.com\n",
    "_This will be merged with Redfin data set on zipcode._\n",
    "\n",
    "**Features:** Population in 2000/2010/2016, Population Density, Water Area, Land Area, Median House/Condo Value in 2016, Median Household Income in 2016, Unemployment\n",
    "\n",
    "[Data Link](https://www.city-data.com/zipmaps/Philadelphia-Pennsylvania.html)"
   ]
  },
  {
   "cell_type": "markdown",
   "id": "outdoor-employment",
   "metadata": {},
   "source": [
    "#### Tools:\n",
    "How do you intend to meet the tools requirement of the project?\n",
    "Are you planning in advance to need or use additional tools beyond those required?"
   ]
  },
  {
   "cell_type": "markdown",
   "id": "antique-blame",
   "metadata": {},
   "source": [
    "BeautifulSoup: \n",
    "* Scrape information from City-Data on zipcodes (all HTML on one page)\n",
    "* Scrape information from individual property listings from Redfin in the Philadelphia region\n",
    "\n",
    "Selenium:\n",
    "* May be needed to generate a list of current Philadelphia properties for sale"
   ]
  },
  {
   "cell_type": "markdown",
   "id": "coastal-mayor",
   "metadata": {},
   "source": [
    "#### MVP Goal:\n",
    "What would a minimum viable product (MVP) look like for this project?"
   ]
  },
  {
   "cell_type": "markdown",
   "id": "innovative-soldier",
   "metadata": {},
   "source": [
    "A linear regression with 2-3 of the features from the Redfin.com and City-Data.com data set. "
   ]
  }
 ],
 "metadata": {
  "kernelspec": {
   "display_name": "Python [conda env:metis]",
   "language": "python",
   "name": "conda-env-metis-py"
  },
  "language_info": {
   "codemirror_mode": {
    "name": "ipython",
    "version": 3
   },
   "file_extension": ".py",
   "mimetype": "text/x-python",
   "name": "python",
   "nbconvert_exporter": "python",
   "pygments_lexer": "ipython3",
   "version": "3.8.8"
  }
 },
 "nbformat": 4,
 "nbformat_minor": 5
}
