{
 "cells": [
  {
   "cell_type": "markdown",
   "id": "danish-colors",
   "metadata": {},
   "source": [
    "### Regression Project Proposal"
   ]
  },
  {
   "cell_type": "markdown",
   "id": "posted-prize",
   "metadata": {},
   "source": [
    "#### Question/Need:\n",
    "What is the framing question of your analysis, or the purpose of the model/system you plan to build?\n",
    "Who benefits from exploring this question or building this model/system?"
   ]
  },
  {
   "cell_type": "markdown",
   "id": "hidden-theorem",
   "metadata": {},
   "source": []
  },
  {
   "cell_type": "markdown",
   "id": "intellectual-poison",
   "metadata": {},
   "source": [
    "#### Data Description:\n",
    "What dataset(s) do you plan to use, and how will you obtain the data?\n",
    "What is an individual sample/unit of analysis in this project? What characteristics/features do you expect to work with?\n",
    "If modeling, what will you predict as your target?"
   ]
  },
  {
   "cell_type": "markdown",
   "id": "occasional-hayes",
   "metadata": {},
   "source": []
  },
  {
   "cell_type": "markdown",
   "id": "outdoor-employment",
   "metadata": {},
   "source": [
    "#### Tools:\n",
    "How do you intend to meet the tools requirement of the project?\n",
    "Are you planning in advance to need or use additional tools beyond those required?"
   ]
  },
  {
   "cell_type": "markdown",
   "id": "antique-blame",
   "metadata": {},
   "source": []
  },
  {
   "cell_type": "markdown",
   "id": "coastal-mayor",
   "metadata": {},
   "source": [
    "#### MVP Goal:\n",
    "What would a minimum viable product (MVP) look like for this project?"
   ]
  },
  {
   "cell_type": "markdown",
   "id": "innovative-soldier",
   "metadata": {},
   "source": []
  }
 ],
 "metadata": {
  "kernelspec": {
   "display_name": "Python [conda env:metis]",
   "language": "python",
   "name": "conda-env-metis-py"
  },
  "language_info": {
   "codemirror_mode": {
    "name": "ipython",
    "version": 3
   },
   "file_extension": ".py",
   "mimetype": "text/x-python",
   "name": "python",
   "nbconvert_exporter": "python",
   "pygments_lexer": "ipython3",
   "version": "3.8.8"
  }
 },
 "nbformat": 4,
 "nbformat_minor": 5
}
