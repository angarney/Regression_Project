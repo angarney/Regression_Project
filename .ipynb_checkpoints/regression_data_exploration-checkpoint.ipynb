{
 "cells": [
  {
   "cell_type": "markdown",
   "id": "amateur-governor",
   "metadata": {},
   "source": [
    "# Initial Data Exploration and Table Merges"
   ]
  },
  {
   "cell_type": "code",
   "execution_count": 1,
   "id": "generous-focus",
   "metadata": {},
   "outputs": [],
   "source": [
    "#Import required packages\n",
    "\n",
    "import re\n",
    "import pickle\n",
    "import statsmodels.api as sm\n",
    "from sklearn.linear_model import LinearRegression\n",
    "import pandas as pd\n",
    "import numpy as np\n",
    "import datetime\n",
    "\n",
    "import matplotlib.pyplot as plt\n",
    "import seaborn as sns\n",
    "%config InlineBackend.figure_formats = ['svg']  # or svg\n",
    "%matplotlib inline\n",
    "\n",
    "sns.set(context='notebook', style='whitegrid', font_scale=1.2)"
   ]
  },
  {
   "cell_type": "markdown",
   "id": "intermediate-atlas",
   "metadata": {},
   "source": [
    "### Pull in Property Assessment Data"
   ]
  },
  {
   "cell_type": "code",
   "execution_count": 2,
   "id": "external-offense",
   "metadata": {},
   "outputs": [],
   "source": [
    "#Pull in property assessment data from Phiadelphia's Open Data Source\n",
    "opa_properties_full_dataset = pd.read_csv('https://opendata-downloads.s3.amazonaws.com/opa_properties_public.csv',low_memory=False)"
   ]
  },
  {
   "cell_type": "code",
   "execution_count": 4,
   "id": "armed-underground",
   "metadata": {},
   "outputs": [],
   "source": [
    "#Create mask to only include residential properties\n",
    "single_family_mask = (opa_properties_full_dataset['category_code_description'] == 'Single Family') "
   ]
  },
  {
   "cell_type": "code",
   "execution_count": 5,
   "id": "royal-measurement",
   "metadata": {},
   "outputs": [],
   "source": [
    "#Create an additional mask to include only taxed properties\n",
    "opa_single_family = opa_properties_full_dataset[single_family_mask].copy()\n",
    "taxed_property_mask = ((opa_single_family['taxable_building'] != 0) & (opa_single_family['taxable_land'] != 0))"
   ]
  },
  {
   "cell_type": "code",
   "execution_count": 6,
   "id": "promising-third",
   "metadata": {},
   "outputs": [],
   "source": [
    "#Sample a portion of data\n",
    "opa_properties_working = opa_single_family[taxed_property_mask].sample(frac=0.01, random_state=42).copy()"
   ]
  },
  {
   "cell_type": "code",
   "execution_count": 7,
   "id": "amber-stuff",
   "metadata": {},
   "outputs": [],
   "source": [
    "#Convert to dataframe\n",
    "opa_properties_df = pd.DataFrame(opa_properties_working)\n",
    "\n",
    "#Drop all columns not being utilized for analysis\n",
    "opa_properties_df.drop(columns=['zoning', 'lat', 'lng', 'mailing_care_of', 'mailing_city_state', 'mailing_street', \n",
    "                             'mailing_zip', 'owner_1', 'owner_2','census_tract', 'book_and_page', 'suffix', \n",
    "                             'general_construction', 'geographic_ward', 'homestead_exemption','depth', \n",
    "                             'recording_date', 'registry_number', 'parcel_number', 'parcel_shape', 'off_street_open', \n",
    "                             'street_direction', 'beginning_point', 'category_code', 'cross_reference', \n",
    "                             'frontage', 'site_type', 'state_code','street_code', 'street_designation', 'street_name', \n",
    "                             'building_code', 'building_code_description', 'date_exterior_condition', \n",
    "                             'exempt_building', 'exempt_land', 'house_number','house_extension', \n",
    "                             'mailing_address_1', 'mailing_address_2','other_building', \n",
    "                             'quality_grade','topography','view_type'],\n",
    "                           inplace= True)\n",
    "\n",
    "#Drop any rows without target information + 1 row without interior condition\n",
    "opa_properties_df.dropna(axis=0, how='any', subset=['zip_code','taxable_building','taxable_land','sale_price','interior_condition'], inplace=True)\n",
    "\n",
    "#Convert zipcode column to string in order to join with philly_zipcodes_dataframe\n",
    "opa_properties_df['zip_code'] = opa_properties_df['zip_code'].astype(int).astype(str)"
   ]
  },
  {
   "cell_type": "markdown",
   "id": "alpha-amateur",
   "metadata": {},
   "source": [
    "### Pull in Zipcode Data Set"
   ]
  },
  {
   "cell_type": "code",
   "execution_count": 8,
   "id": "changed-depth",
   "metadata": {},
   "outputs": [],
   "source": [
    "#Bring in pickled Philly zipcodes dataframe\n",
    "\n",
    "with open('philly_zipcodes_df','rb') as read_file:\n",
    "    philly_zipcodes_df = pickle.load(read_file)"
   ]
  },
  {
   "cell_type": "code",
   "execution_count": 9,
   "id": "overhead-gallery",
   "metadata": {},
   "outputs": [],
   "source": [
    "#Update data types in Philly zipcodes dataframe\n",
    "\n",
    "philly_zipcodes_df = philly_zipcodes_df.apply(pd.to_numeric)\n",
    "\n",
    "#Convert zipcode column to string in order to join with Office of Property Assessment data\n",
    "philly_zipcodes_df['zipcode'] = philly_zipcodes_df['zipcode'].astype(str)"
   ]
  },
  {
   "cell_type": "code",
   "execution_count": 10,
   "id": "experimental-cruise",
   "metadata": {},
   "outputs": [],
   "source": [
    "#Add neighborhood information\n",
    "neighborhoods = pd.read_csv('zipcodes_neighborhoods.csv',header=None, names=['zipcode', 'neighborhood'])\n",
    "neighborhoods['zipcode'] = neighborhoods['zipcode'].astype(str)"
   ]
  },
  {
   "cell_type": "markdown",
   "id": "brutal-worker",
   "metadata": {},
   "source": [
    "### Pull in Walkscore Data Set"
   ]
  },
  {
   "cell_type": "code",
   "execution_count": 11,
   "id": "entertaining-spiritual",
   "metadata": {},
   "outputs": [],
   "source": [
    "#Bring in pickled walkscores dataframe\n",
    "\n",
    "with open('walkscores_df','rb') as read_file:\n",
    "    walkscore_df = pickle.load(read_file)\n",
    "walkscore_df['walkscore'] = walkscore_df['walkscore'].astype(int)"
   ]
  },
  {
   "cell_type": "markdown",
   "id": "amateur-juice",
   "metadata": {},
   "source": [
    "### Pull in Best Grade School Score Data Set"
   ]
  },
  {
   "cell_type": "code",
   "execution_count": 12,
   "id": "lesser-purchase",
   "metadata": {},
   "outputs": [],
   "source": [
    "#Bring in pickled school scores dataframe\n",
    "\n",
    "with open('best_grade_school_score_df','rb') as read_file:\n",
    "    best_grade_school_score_df = pickle.load(read_file)"
   ]
  },
  {
   "cell_type": "markdown",
   "id": "round-seafood",
   "metadata": {},
   "source": [
    "### Merge Dataframes"
   ]
  },
  {
   "cell_type": "code",
   "execution_count": 13,
   "id": "amazing-option",
   "metadata": {},
   "outputs": [],
   "source": [
    "#Merge on zipcode column and update columns\n",
    "philly_zipcodes_df = philly_zipcodes_df.merge(\n",
    "    walkscore_df, how='left', left_on='zipcode', right_on='zipcode')\n",
    "\n",
    "philly_zipcodes_df = philly_zipcodes_df.merge(\n",
    "    best_grade_school_score_df, how='left', left_on='zipcode', right_on='zipcode')\n",
    "\n",
    "philly_zipcodes_df = philly_zipcodes_df.merge(\n",
    "    neighborhoods, how='left', left_on='zipcode', right_on='zipcode')\n",
    "\n",
    "property_zipcode_merged_df = opa_properties_df.merge(\n",
    "    philly_zipcodes_df, how='left', left_on='zip_code', right_on='zipcode')\n",
    "\n",
    "#Ensure ID is string so it is not used for modeling\n",
    "property_zipcode_merged_df['objectid'] = property_zipcode_merged_df['objectid'].astype(str)\n",
    "\n",
    "#Create new column metrics\n",
    "property_zipcode_merged_df['percentage_of_taxable_dollars'] = (\n",
    "    ((property_zipcode_merged_df['taxable_building'] + property_zipcode_merged_df['taxable_land'])/\n",
    "    property_zipcode_merged_df['sale_price'])*100)\n",
    "property_zipcode_merged_df['percentage_of_taxable_dollars'] = property_zipcode_merged_df['percentage_of_taxable_dollars'].round(2)\n",
    "\n",
    "property_zipcode_merged_df['percent_change_in_pop_00_16'] = (\n",
    "    ((property_zipcode_merged_df['population_2016'] - property_zipcode_merged_df['population_2010'])/\n",
    "    property_zipcode_merged_df['population_2010'])*100)\n",
    "property_zipcode_merged_df['percent_change_in_pop_00_16'] = property_zipcode_merged_df['percent_change_in_pop_00_16'].round(2)\n",
    "\n",
    "property_zipcode_merged_df['percent_female_2016'] = (\n",
    "    (property_zipcode_merged_df['population_2016_female']/\n",
    "    (property_zipcode_merged_df['population_2016_female']+property_zipcode_merged_df['population_2016_male']))*100)\n",
    "property_zipcode_merged_df['percent_female_2016'] = property_zipcode_merged_df['percent_female_2016'] .round(2)\n",
    "\n",
    "#Convert to date time object\n",
    "property_zipcode_merged_df['sale_date'] = pd.to_datetime(property_zipcode_merged_df['sale_date'])\n",
    "\n",
    "#Drop extra columns\n",
    "property_zipcode_merged_df.drop(columns=['assessment_date', 'category_code_description',\n",
    "                                         'location','taxable_building', 'taxable_land',\n",
    "                                         'unit', 'zip_code', 'population_2016','population_2010',\n",
    "                                         'population_2000','population_2016_male', 'population_2016_female',\n",
    "                                         'property_tax', 'med_tax_morg_2016', 'garage_type', 'fuel',\n",
    "                                         'separate_utilities', 'sewer', 'year_built_estimate', 'unfinished',\n",
    "                                         'utility', 'med_tax_nomorg_2016', 'basements', 'total_livable_area',\n",
    "                                         'med_owner_cost_morg', 'med_owner_cost_nomorg','market_value_date'], inplace=True)\n",
    "\n",
    "\n",
    "#Drop properties in zipcode 19112, Philadelphia Naval yard not being used in analysis\n",
    "property_zipcode_merged_df.dropna(axis=0, how='any', subset=['percent_female_2016'], inplace=True)"
   ]
  },
  {
   "cell_type": "code",
   "execution_count": 14,
   "id": "dimensional-nomination",
   "metadata": {},
   "outputs": [],
   "source": [
    "#Pickle final dataframe\n",
    "\n",
    "with open('property_zipcode_merged_df', 'wb') as object_to_pickle:\n",
    "    pickle.dump(property_zipcode_merged_df, object_to_pickle)"
   ]
  },
  {
   "cell_type": "markdown",
   "id": "anticipated-football",
   "metadata": {},
   "source": [
    "### Explore the Initial Data Set"
   ]
  },
  {
   "cell_type": "code",
   "execution_count": null,
   "id": "recreational-aircraft",
   "metadata": {},
   "outputs": [],
   "source": [
    "property_zipcode_merged_df.info()"
   ]
  },
  {
   "cell_type": "code",
   "execution_count": null,
   "id": "visible-serum",
   "metadata": {},
   "outputs": [],
   "source": [
    "property_zipcode_merged_df['percentage_of_taxable_dollars']"
   ]
  },
  {
   "cell_type": "code",
   "execution_count": null,
   "id": "subject-singles",
   "metadata": {},
   "outputs": [],
   "source": [
    "property_zipcode_merged_df.groupby('zipcode').mean()"
   ]
  }
 ],
 "metadata": {
  "kernelspec": {
   "display_name": "Python [conda env:Metis] *",
   "language": "python",
   "name": "conda-env-Metis-py"
  },
  "language_info": {
   "codemirror_mode": {
    "name": "ipython",
    "version": 3
   },
   "file_extension": ".py",
   "mimetype": "text/x-python",
   "name": "python",
   "nbconvert_exporter": "python",
   "pygments_lexer": "ipython3",
   "version": "3.8.8"
  }
 },
 "nbformat": 4,
 "nbformat_minor": 5
}
