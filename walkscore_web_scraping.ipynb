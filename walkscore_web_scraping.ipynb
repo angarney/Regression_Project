{
 "cells": [
  {
   "cell_type": "markdown",
   "id": "confused-advice",
   "metadata": {},
   "source": [
    "# Walkscore Web Scraping"
   ]
  },
  {
   "cell_type": "code",
   "execution_count": 39,
   "id": "modular-breed",
   "metadata": {},
   "outputs": [],
   "source": [
    "import requests\n",
    "from bs4 import BeautifulSoup\n",
    "from selenium import webdriver\n",
    "from selenium.webdriver.common.keys import Keys\n",
    "import time, os\n",
    "import numpy as np\n",
    "import pandas as pd\n",
    "import random\n",
    "import re\n",
    "import pickle\n",
    "import urllib.request, urllib.error, urllib.parse\n",
    "from fake_useragent import UserAgent\n",
    "from selenium.webdriver.common.by import By\n",
    "from selenium.webdriver.support.ui import WebDriverWait\n",
    "from selenium.webdriver.support import expected_conditions as EC"
   ]
  },
  {
   "cell_type": "code",
   "execution_count": 36,
   "id": "lucky-restriction",
   "metadata": {},
   "outputs": [],
   "source": [
    "#Walkscore link\n",
    "philly_walkscore_link = 'https://www.walkscore.com/PA/Philadelphia/'"
   ]
  },
  {
   "cell_type": "code",
   "execution_count": 33,
   "id": "sealed-handbook",
   "metadata": {},
   "outputs": [],
   "source": [
    "#Bring in pickled Philly zipcodes list\n",
    "\n",
    "with open('philly_zipcodes','rb') as read_file:\n",
    "    philly_zipcodes = pickle.load(read_file)"
   ]
  },
  {
   "cell_type": "code",
   "execution_count": 34,
   "id": "static-outreach",
   "metadata": {},
   "outputs": [],
   "source": [
    "#Pull all walkscores\n",
    "\n",
    "walkscore_dict = {}\n",
    "\n",
    "def get_all_walkscores(link,zipcode_list):\n",
    "   \n",
    "    #Pull Walkscore\n",
    "    def get_walkscore(walkscore_soup):\n",
    "        text = walkscore_soup.find('div', attrs={'class' : 'score-info-link'}).find('img')\n",
    "        walkscore = str(text).split('=')[1].replace('\"','')[:2]\n",
    "        return walkscore\n",
    "\n",
    "    for zipcode in zipcode_list:\n",
    "        iterable_link = link + '{zc}'.format(zc=zipcode)\n",
    "        walkscore_html = requests.get(iterable_link).text\n",
    "        walkscore_soup = BeautifulSoup(walkscore_html, \"lxml\")\n",
    "        walkscore_dict[zipcode] = get_walkscore(walkscore_soup)\n",
    "        time.sleep(random.uniform(5.25,7.75))\n",
    "    \n",
    "    return walkscore_dict"
   ]
  },
  {
   "cell_type": "code",
   "execution_count": 37,
   "id": "lesbian-costs",
   "metadata": {},
   "outputs": [
    {
     "data": {
      "text/plain": [
       "{'19102': '99',\n",
       " '19103': '98',\n",
       " '19104': '88',\n",
       " '19106': '97',\n",
       " '19107': '99',\n",
       " '19111': '68',\n",
       " '19114': '48',\n",
       " '19115': '50',\n",
       " '19116': '47',\n",
       " '19118': '64',\n",
       " '19119': '73',\n",
       " '19120': '79',\n",
       " '19121': '81',\n",
       " '19122': '87',\n",
       " '19123': '92',\n",
       " '19124': '81',\n",
       " '19125': '91',\n",
       " '19126': '75',\n",
       " '19127': '81',\n",
       " '19128': '61',\n",
       " '19129': '74',\n",
       " '19130': '90',\n",
       " '19131': '72',\n",
       " '19132': '83',\n",
       " '19133': '90',\n",
       " '19134': '89',\n",
       " '19135': '83',\n",
       " '19136': '63',\n",
       " '19137': '68',\n",
       " '19138': '81',\n",
       " '19139': '88',\n",
       " '19140': '85',\n",
       " '19141': '85',\n",
       " '19142': '82',\n",
       " '19143': '84',\n",
       " '19144': '79',\n",
       " '19145': '85',\n",
       " '19146': '90',\n",
       " '19147': '96',\n",
       " '19148': '92',\n",
       " '19149': '84',\n",
       " '19150': '71',\n",
       " '19151': '79',\n",
       " '19152': '63',\n",
       " '19153': '57',\n",
       " '19154': '43'}"
      ]
     },
     "execution_count": 37,
     "metadata": {},
     "output_type": "execute_result"
    }
   ],
   "source": [
    "#Run function to pull information\n",
    "get_all_walkscores(philly_walkscore_link,philly_zipcodes)"
   ]
  },
  {
   "cell_type": "code",
   "execution_count": 40,
   "id": "terminal-personality",
   "metadata": {},
   "outputs": [],
   "source": [
    "walkscore_df = pd.DataFrame(list(walkscore_dict.items()),columns = ['zipcode','walkscore']) "
   ]
  },
  {
   "cell_type": "code",
   "execution_count": 42,
   "id": "twelve-harris",
   "metadata": {},
   "outputs": [],
   "source": [
    "#Pickle walkscore dataframe\n",
    "\n",
    "with open('walkscores_df', 'wb') as write_object:\n",
    "    pickle.dump(walkscore_df, write_object)"
   ]
  }
 ],
 "metadata": {
  "kernelspec": {
   "display_name": "Python [conda env:Metis] *",
   "language": "python",
   "name": "conda-env-Metis-py"
  },
  "language_info": {
   "codemirror_mode": {
    "name": "ipython",
    "version": 3
   },
   "file_extension": ".py",
   "mimetype": "text/x-python",
   "name": "python",
   "nbconvert_exporter": "python",
   "pygments_lexer": "ipython3",
   "version": "3.8.8"
  }
 },
 "nbformat": 4,
 "nbformat_minor": 5
}
